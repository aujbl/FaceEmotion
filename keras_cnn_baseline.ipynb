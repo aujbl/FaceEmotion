{
 "cells": [
  {
   "cell_type": "code",
   "execution_count": null,
   "metadata": {
    "execution": {
     "iopub.execute_input": "2021-07-12T02:23:42.282847Z",
     "iopub.status.busy": "2021-07-12T02:23:42.282358Z",
     "iopub.status.idle": "2021-07-12T02:23:42.343830Z",
     "shell.execute_reply": "2021-07-12T02:23:42.343234Z",
     "shell.execute_reply.started": "2021-07-12T02:23:42.282806Z"
    },
    "tags": []
   },
   "outputs": [],
   "source": [
    "from keras.models import Sequential\n",
    "from keras.layers import Conv2D, MaxPooling2D\n",
    "from keras.layers import Activation, Dropout, Flatten, Dense\n",
    "from keras.optimizers import Adam\n",
    "\n",
    "model = Sequential()\n",
    "model.add(Conv2D(16, (5, 5), padding='same', input_shape=(48, 48, 3)))\n",
    "model.add(Activation('relu'))\n",
    "model.add(MaxPooling2D(pool_size=(2, 2)))\n",
    "\n",
    "model.add(Conv2D(32, (5, 5), padding='same', ))\n",
    "model.add(Activation('relu'))\n",
    "model.add(MaxPooling2D(pool_size=(2, 2)))\n",
    "\n",
    "model.add(Conv2D(32, (5, 5), padding='same', ))\n",
    "model.add(Activation('relu'))\n",
    "model.add(MaxPooling2D(pool_size=(2, 2)))\n",
    "\n",
    "model.add(Flatten())\n",
    "model.add(Dense(64))\n",
    "model.add(Activation('relu'))\n",
    "model.add(Dropout(0.5))\n",
    "model.add(Dense(7, activation=\"softmax\"))\n",
    "# model.add(Activation('softmax'))\n",
    "\n",
    "model.compile(loss='categorical_crossentropy',\n",
    "              optimizer=Adam(learning_rate=0.001),\n",
    "              metrics=['accuracy'])"
   ]
  },
  {
   "cell_type": "code",
   "execution_count": null,
   "metadata": {
    "execution": {
     "iopub.execute_input": "2021-07-12T02:23:42.763972Z",
     "iopub.status.busy": "2021-07-12T02:23:42.763411Z",
     "iopub.status.idle": "2021-07-12T02:23:42.775129Z",
     "shell.execute_reply": "2021-07-12T02:23:42.774532Z",
     "shell.execute_reply.started": "2021-07-12T02:23:42.763923Z"
    },
    "tags": []
   },
   "outputs": [
    {
     "name": "stdout",
     "output_type": "stream",
     "text": [
      "Model: \"sequential\"\n",
      "_________________________________________________________________\n",
      "Layer (type)                 Output Shape              Param #   \n",
      "=================================================================\n",
      "conv2d (Conv2D)              (None, 48, 48, 16)        1216      \n",
      "_________________________________________________________________\n",
      "activation (Activation)      (None, 48, 48, 16)        0         \n",
      "_________________________________________________________________\n",
      "max_pooling2d (MaxPooling2D) (None, 24, 24, 16)        0         \n",
      "_________________________________________________________________\n",
      "conv2d_1 (Conv2D)            (None, 24, 24, 32)        12832     \n",
      "_________________________________________________________________\n",
      "activation_1 (Activation)    (None, 24, 24, 32)        0         \n",
      "_________________________________________________________________\n",
      "max_pooling2d_1 (MaxPooling2 (None, 12, 12, 32)        0         \n",
      "_________________________________________________________________\n",
      "conv2d_2 (Conv2D)            (None, 12, 12, 32)        25632     \n",
      "_________________________________________________________________\n",
      "activation_2 (Activation)    (None, 12, 12, 32)        0         \n",
      "_________________________________________________________________\n",
      "max_pooling2d_2 (MaxPooling2 (None, 6, 6, 32)          0         \n",
      "_________________________________________________________________\n",
      "flatten (Flatten)            (None, 1152)              0         \n",
      "_________________________________________________________________\n",
      "dense (Dense)                (None, 64)                73792     \n",
      "_________________________________________________________________\n",
      "activation_3 (Activation)    (None, 64)                0         \n",
      "_________________________________________________________________\n",
      "dropout (Dropout)            (None, 64)                0         \n",
      "_________________________________________________________________\n",
      "dense_1 (Dense)              (None, 7)                 455       \n",
      "=================================================================\n",
      "Total params: 113,927\n",
      "Trainable params: 113,927\n",
      "Non-trainable params: 0\n",
      "_________________________________________________________________\n"
     ]
    }
   ],
   "source": [
    "model.summary()"
   ]
  },
  {
   "cell_type": "code",
   "execution_count": null,
   "metadata": {
    "execution": {
     "iopub.execute_input": "2021-07-12T02:23:43.504441Z",
     "iopub.status.busy": "2021-07-12T02:23:43.503931Z",
     "iopub.status.idle": "2021-07-12T02:23:44.435103Z",
     "shell.execute_reply": "2021-07-12T02:23:44.433880Z",
     "shell.execute_reply.started": "2021-07-12T02:23:43.504395Z"
    },
    "tags": []
   },
   "outputs": [
    {
     "ename": "FileNotFoundError",
     "evalue": "[WinError 3] 系统找不到指定的路径。: './Datawhale_人脸情绪识别_数据集/train/'",
     "output_type": "error",
     "traceback": [
      "\u001B[1;31m---------------------------------------------------------------------------\u001B[0m",
      "\u001B[1;31mFileNotFoundError\u001B[0m                         Traceback (most recent call last)",
      "\u001B[1;32m<ipython-input-3-7f35b1f9b70e>\u001B[0m in \u001B[0;36m<module>\u001B[1;34m\u001B[0m\n\u001B[0;32m     17\u001B[0m                                                \u001B[0mtarget_size\u001B[0m\u001B[1;33m=\u001B[0m\u001B[1;33m(\u001B[0m\u001B[1;36m48\u001B[0m\u001B[1;33m,\u001B[0m \u001B[1;36m48\u001B[0m\u001B[1;33m)\u001B[0m\u001B[1;33m,\u001B[0m\u001B[1;33m\u001B[0m\u001B[1;33m\u001B[0m\u001B[0m\n\u001B[0;32m     18\u001B[0m                                                \u001B[0mshuffle\u001B[0m\u001B[1;33m=\u001B[0m\u001B[1;32mTrue\u001B[0m\u001B[1;33m,\u001B[0m\u001B[1;33m\u001B[0m\u001B[1;33m\u001B[0m\u001B[0m\n\u001B[1;32m---> 19\u001B[1;33m                                                subset = 'training') \n\u001B[0m\u001B[0;32m     20\u001B[0m \u001B[1;33m\u001B[0m\u001B[0m\n\u001B[0;32m     21\u001B[0m val_data = val_datagen.flow_from_directory('./Datawhale_人脸情绪识别_数据集/train/', \n",
      "\u001B[1;32mD:\\miniconda3\\envs\\keras\\lib\\site-packages\\tensorflow\\python\\keras\\preprocessing\\image.py\u001B[0m in \u001B[0;36mflow_from_directory\u001B[1;34m(self, directory, target_size, color_mode, classes, class_mode, batch_size, shuffle, seed, save_to_dir, save_prefix, save_format, follow_links, subset, interpolation)\u001B[0m\n\u001B[0;32m    956\u001B[0m         \u001B[0mfollow_links\u001B[0m\u001B[1;33m=\u001B[0m\u001B[0mfollow_links\u001B[0m\u001B[1;33m,\u001B[0m\u001B[1;33m\u001B[0m\u001B[1;33m\u001B[0m\u001B[0m\n\u001B[0;32m    957\u001B[0m         \u001B[0msubset\u001B[0m\u001B[1;33m=\u001B[0m\u001B[0msubset\u001B[0m\u001B[1;33m,\u001B[0m\u001B[1;33m\u001B[0m\u001B[1;33m\u001B[0m\u001B[0m\n\u001B[1;32m--> 958\u001B[1;33m         interpolation=interpolation)\n\u001B[0m\u001B[0;32m    959\u001B[0m \u001B[1;33m\u001B[0m\u001B[0m\n\u001B[0;32m    960\u001B[0m   def flow_from_dataframe(self,\n",
      "\u001B[1;32mD:\\miniconda3\\envs\\keras\\lib\\site-packages\\tensorflow\\python\\keras\\preprocessing\\image.py\u001B[0m in \u001B[0;36m__init__\u001B[1;34m(self, directory, image_data_generator, target_size, color_mode, classes, class_mode, batch_size, shuffle, seed, data_format, save_to_dir, save_prefix, save_format, follow_links, subset, interpolation, dtype)\u001B[0m\n\u001B[0;32m    394\u001B[0m         \u001B[0msubset\u001B[0m\u001B[1;33m=\u001B[0m\u001B[0msubset\u001B[0m\u001B[1;33m,\u001B[0m\u001B[1;33m\u001B[0m\u001B[1;33m\u001B[0m\u001B[0m\n\u001B[0;32m    395\u001B[0m         \u001B[0minterpolation\u001B[0m\u001B[1;33m=\u001B[0m\u001B[0minterpolation\u001B[0m\u001B[1;33m,\u001B[0m\u001B[1;33m\u001B[0m\u001B[1;33m\u001B[0m\u001B[0m\n\u001B[1;32m--> 396\u001B[1;33m         **kwargs)\n\u001B[0m\u001B[0;32m    397\u001B[0m \u001B[1;33m\u001B[0m\u001B[0m\n\u001B[0;32m    398\u001B[0m \u001B[1;33m\u001B[0m\u001B[0m\n",
      "\u001B[1;32mD:\\miniconda3\\envs\\keras\\lib\\site-packages\\keras_preprocessing\\image\\directory_iterator.py\u001B[0m in \u001B[0;36m__init__\u001B[1;34m(self, directory, image_data_generator, target_size, color_mode, classes, class_mode, batch_size, shuffle, seed, data_format, save_to_dir, save_prefix, save_format, follow_links, subset, interpolation, dtype)\u001B[0m\n\u001B[0;32m    113\u001B[0m         \u001B[1;32mif\u001B[0m \u001B[1;32mnot\u001B[0m \u001B[0mclasses\u001B[0m\u001B[1;33m:\u001B[0m\u001B[1;33m\u001B[0m\u001B[1;33m\u001B[0m\u001B[0m\n\u001B[0;32m    114\u001B[0m             \u001B[0mclasses\u001B[0m \u001B[1;33m=\u001B[0m \u001B[1;33m[\u001B[0m\u001B[1;33m]\u001B[0m\u001B[1;33m\u001B[0m\u001B[1;33m\u001B[0m\u001B[0m\n\u001B[1;32m--> 115\u001B[1;33m             \u001B[1;32mfor\u001B[0m \u001B[0msubdir\u001B[0m \u001B[1;32min\u001B[0m \u001B[0msorted\u001B[0m\u001B[1;33m(\u001B[0m\u001B[0mos\u001B[0m\u001B[1;33m.\u001B[0m\u001B[0mlistdir\u001B[0m\u001B[1;33m(\u001B[0m\u001B[0mdirectory\u001B[0m\u001B[1;33m)\u001B[0m\u001B[1;33m)\u001B[0m\u001B[1;33m:\u001B[0m\u001B[1;33m\u001B[0m\u001B[1;33m\u001B[0m\u001B[0m\n\u001B[0m\u001B[0;32m    116\u001B[0m                 \u001B[1;32mif\u001B[0m \u001B[0mos\u001B[0m\u001B[1;33m.\u001B[0m\u001B[0mpath\u001B[0m\u001B[1;33m.\u001B[0m\u001B[0misdir\u001B[0m\u001B[1;33m(\u001B[0m\u001B[0mos\u001B[0m\u001B[1;33m.\u001B[0m\u001B[0mpath\u001B[0m\u001B[1;33m.\u001B[0m\u001B[0mjoin\u001B[0m\u001B[1;33m(\u001B[0m\u001B[0mdirectory\u001B[0m\u001B[1;33m,\u001B[0m \u001B[0msubdir\u001B[0m\u001B[1;33m)\u001B[0m\u001B[1;33m)\u001B[0m\u001B[1;33m:\u001B[0m\u001B[1;33m\u001B[0m\u001B[1;33m\u001B[0m\u001B[0m\n\u001B[0;32m    117\u001B[0m                     \u001B[0mclasses\u001B[0m\u001B[1;33m.\u001B[0m\u001B[0mappend\u001B[0m\u001B[1;33m(\u001B[0m\u001B[0msubdir\u001B[0m\u001B[1;33m)\u001B[0m\u001B[1;33m\u001B[0m\u001B[1;33m\u001B[0m\u001B[0m\n",
      "\u001B[1;31mFileNotFoundError\u001B[0m: [WinError 3] 系统找不到指定的路径。: './Datawhale_人脸情绪识别_数据集/train/'"
     ]
    }
   ],
   "source": [
    "batch_size = 16\n",
    "\n",
    "from keras.preprocessing.image import ImageDataGenerator\n",
    "train_datagen = ImageDataGenerator(rescale=1./255,\n",
    "                                   # rotation_range=10,\n",
    "                                   # width_shift_range=0.2,\n",
    "                                   # height_shift_range=0.2,\n",
    "                                   # horizontal_flip=True,\n",
    "                                   validation_split=0.2)\n",
    "\n",
    "val_datagen = ImageDataGenerator(rescale=1./255, validation_split=0.2)\n",
    "\n",
    "train_data = train_datagen.flow_from_directory('./Datawhale_人脸情绪识别_数据集/train/', \n",
    "                                               color_mode='rgb',\n",
    "                                               batch_size=batch_size, \n",
    "                                               class_mode='categorical',\n",
    "                                               target_size=(48, 48),\n",
    "                                               shuffle=True,\n",
    "                                               subset = 'training') \n",
    "\n",
    "val_data = val_datagen.flow_from_directory('./Datawhale_人脸情绪识别_数据集/train/', \n",
    "                                           color_mode='rgb',\n",
    "                                           batch_size=batch_size, \n",
    "                                           class_mode='categorical',\n",
    "                                           target_size=(48, 48),\n",
    "                                           shuffle=False,\n",
    "                                           subset = 'validation')"
   ]
  },
  {
   "cell_type": "code",
   "execution_count": null,
   "metadata": {
    "execution": {
     "iopub.execute_input": "2021-07-12T02:23:44.437586Z",
     "iopub.status.busy": "2021-07-12T02:23:44.437089Z",
     "iopub.status.idle": "2021-07-12T02:24:11.593749Z",
     "shell.execute_reply": "2021-07-12T02:24:11.593302Z",
     "shell.execute_reply.started": "2021-07-12T02:23:44.437541Z"
    },
    "tags": []
   },
   "outputs": [],
   "source": [
    "model.fit_generator(\n",
    "        train_data,\n",
    "        epochs=5,\n",
    "        validation_data=val_data,\n",
    "        validation_steps=200)\n",
    "model.save_weights('first_try.h5') "
   ]
  },
  {
   "cell_type": "code",
   "execution_count": null,
   "metadata": {
    "execution": {
     "iopub.execute_input": "2021-07-12T02:28:33.877360Z",
     "iopub.status.busy": "2021-07-12T02:28:33.876799Z",
     "iopub.status.idle": "2021-07-12T02:28:41.727508Z",
     "shell.execute_reply": "2021-07-12T02:28:41.726797Z",
     "shell.execute_reply.started": "2021-07-12T02:28:33.877312Z"
    },
    "tags": []
   },
   "outputs": [],
   "source": [
    "test_datagen = ImageDataGenerator(rescale=1./255)\n",
    "\n",
    "test_generator = test_datagen.flow_from_directory(\n",
    "        './Datawhale_人脸情绪识别_数据集/',\n",
    "        target_size=(48, 48),\n",
    "        color_mode=\"rgb\",\n",
    "        shuffle = False,\n",
    "        class_mode='categorical',\n",
    "        batch_size=10)\n",
    "\n",
    "filenames = test_generator.filenames\n",
    "nb_samples = len(filenames)\n",
    "predict = model.predict_generator(test_generator,steps = nb_samples)"
   ]
  },
  {
   "cell_type": "code",
   "execution_count": null,
   "metadata": {
    "execution": {
     "iopub.execute_input": "2021-07-12T02:32:32.776729Z",
     "iopub.status.busy": "2021-07-12T02:32:32.776208Z",
     "iopub.status.idle": "2021-07-12T02:32:32.783406Z",
     "shell.execute_reply": "2021-07-12T02:32:32.782659Z",
     "shell.execute_reply.started": "2021-07-12T02:32:32.776682Z"
    },
    "tags": []
   },
   "outputs": [],
   "source": [
    "train_data.class_indices"
   ]
  },
  {
   "cell_type": "code",
   "execution_count": null,
   "metadata": {
    "execution": {
     "iopub.execute_input": "2021-07-12T02:34:07.921969Z",
     "iopub.status.busy": "2021-07-12T02:34:07.921397Z",
     "iopub.status.idle": "2021-07-12T02:34:07.927770Z",
     "shell.execute_reply": "2021-07-12T02:34:07.926824Z",
     "shell.execute_reply.started": "2021-07-12T02:34:07.921922Z"
    },
    "tags": []
   },
   "outputs": [],
   "source": [
    "import numpy as np\n",
    "import pandas as pd\n",
    "cls_name = np.array(['angry', 'disgusted', 'fearful', 'happy','neutral', 'sad', 'surprised'])"
   ]
  },
  {
   "cell_type": "code",
   "execution_count": null,
   "metadata": {
    "execution": {
     "iopub.execute_input": "2021-07-12T02:34:37.701709Z",
     "iopub.status.busy": "2021-07-12T02:34:37.701142Z",
     "iopub.status.idle": "2021-07-12T02:34:37.714763Z",
     "shell.execute_reply": "2021-07-12T02:34:37.714030Z",
     "shell.execute_reply.started": "2021-07-12T02:34:37.701660Z"
    },
    "tags": []
   },
   "outputs": [],
   "source": [
    "submit_df = pd.DataFrame({'name': filenames, 'label': cls_name[predict.argmax(1)]})"
   ]
  },
  {
   "cell_type": "code",
   "execution_count": null,
   "metadata": {
    "execution": {
     "iopub.execute_input": "2021-07-12T02:34:42.596408Z",
     "iopub.status.busy": "2021-07-12T02:34:42.595853Z",
     "iopub.status.idle": "2021-07-12T02:34:42.607805Z",
     "shell.execute_reply": "2021-07-12T02:34:42.607166Z",
     "shell.execute_reply.started": "2021-07-12T02:34:42.596362Z"
    }
   },
   "outputs": [],
   "source": [
    "submit_df.head()"
   ]
  },
  {
   "cell_type": "code",
   "execution_count": null,
   "metadata": {
    "execution": {
     "iopub.execute_input": "2021-07-12T02:36:02.852150Z",
     "iopub.status.busy": "2021-07-12T02:36:02.851613Z",
     "iopub.status.idle": "2021-07-12T02:36:02.864403Z",
     "shell.execute_reply": "2021-07-12T02:36:02.863719Z",
     "shell.execute_reply.started": "2021-07-12T02:36:02.852101Z"
    },
    "tags": []
   },
   "outputs": [],
   "source": [
    "submit_df = submit_df[submit_df['name'].apply(lambda x: 'test' in x )]\n",
    "submit_df['name'] = submit_df['name'].apply(lambda x: x.split('/')[-1])"
   ]
  },
  {
   "cell_type": "code",
   "execution_count": null,
   "metadata": {
    "execution": {
     "iopub.execute_input": "2021-07-12T02:36:32.127278Z",
     "iopub.status.busy": "2021-07-12T02:36:32.126679Z",
     "iopub.status.idle": "2021-07-12T02:36:32.144232Z",
     "shell.execute_reply": "2021-07-12T02:36:32.143736Z",
     "shell.execute_reply.started": "2021-07-12T02:36:32.127230Z"
    },
    "tags": []
   },
   "outputs": [],
   "source": [
    "submit_df = submit_df.sort_values(by='name')\n",
    "submit_df.to_csv('submit.csv', index=None)"
   ]
  },
  {
   "cell_type": "code",
   "execution_count": null,
   "metadata": {},
   "outputs": [],
   "source": []
  }
 ],
 "metadata": {
  "kernelspec": {
   "name": "pycharm-74235004",
   "language": "python",
   "display_name": "PyCharm (faceemotion)"
  },
  "language_info": {
   "codemirror_mode": {
    "name": "ipython",
    "version": 3
   },
   "file_extension": ".py",
   "mimetype": "text/x-python",
   "name": "python",
   "nbconvert_exporter": "python",
   "pygments_lexer": "ipython3",
   "version": "3.6.9"
  }
 },
 "nbformat": 4,
 "nbformat_minor": 4
}